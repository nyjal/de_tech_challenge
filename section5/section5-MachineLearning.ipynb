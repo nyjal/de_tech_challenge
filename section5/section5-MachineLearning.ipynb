{
 "cells": [
  {
   "cell_type": "markdown",
   "metadata": {},
   "source": [
    "### 1. Import Libraries"
   ]
  },
  {
   "cell_type": "code",
   "execution_count": 1,
   "metadata": {},
   "outputs": [],
   "source": [
    "from sklearn import datasets\n",
    "from sklearn.model_selection import train_test_split\n",
    "from sklearn.ensemble import RandomForestClassifier\n",
    "from sklearn.datasets import make_classification\n",
    "import pandas as pd"
   ]
  },
  {
   "cell_type": "markdown",
   "metadata": {},
   "source": [
    "### 2. Load dataset"
   ]
  },
  {
   "cell_type": "code",
   "execution_count": 2,
   "metadata": {},
   "outputs": [
    {
     "data": {
      "text/html": [
       "<div>\n",
       "<style scoped>\n",
       "    .dataframe tbody tr th:only-of-type {\n",
       "        vertical-align: middle;\n",
       "    }\n",
       "\n",
       "    .dataframe tbody tr th {\n",
       "        vertical-align: top;\n",
       "    }\n",
       "\n",
       "    .dataframe thead th {\n",
       "        text-align: right;\n",
       "    }\n",
       "</style>\n",
       "<table border=\"1\" class=\"dataframe\">\n",
       "  <thead>\n",
       "    <tr style=\"text-align: right;\">\n",
       "      <th></th>\n",
       "      <th>buying</th>\n",
       "      <th>maint</th>\n",
       "      <th>doors</th>\n",
       "      <th>lug_boot</th>\n",
       "      <th>safety</th>\n",
       "      <th>class_value</th>\n",
       "    </tr>\n",
       "  </thead>\n",
       "  <tbody>\n",
       "    <tr>\n",
       "      <th>0</th>\n",
       "      <td>vhigh</td>\n",
       "      <td>vhigh</td>\n",
       "      <td>2</td>\n",
       "      <td>small</td>\n",
       "      <td>low</td>\n",
       "      <td>unacc</td>\n",
       "    </tr>\n",
       "    <tr>\n",
       "      <th>1</th>\n",
       "      <td>vhigh</td>\n",
       "      <td>vhigh</td>\n",
       "      <td>2</td>\n",
       "      <td>small</td>\n",
       "      <td>med</td>\n",
       "      <td>unacc</td>\n",
       "    </tr>\n",
       "    <tr>\n",
       "      <th>2</th>\n",
       "      <td>vhigh</td>\n",
       "      <td>vhigh</td>\n",
       "      <td>2</td>\n",
       "      <td>small</td>\n",
       "      <td>high</td>\n",
       "      <td>unacc</td>\n",
       "    </tr>\n",
       "    <tr>\n",
       "      <th>3</th>\n",
       "      <td>vhigh</td>\n",
       "      <td>vhigh</td>\n",
       "      <td>2</td>\n",
       "      <td>med</td>\n",
       "      <td>low</td>\n",
       "      <td>unacc</td>\n",
       "    </tr>\n",
       "    <tr>\n",
       "      <th>4</th>\n",
       "      <td>vhigh</td>\n",
       "      <td>vhigh</td>\n",
       "      <td>2</td>\n",
       "      <td>med</td>\n",
       "      <td>med</td>\n",
       "      <td>unacc</td>\n",
       "    </tr>\n",
       "  </tbody>\n",
       "</table>\n",
       "</div>"
      ],
      "text/plain": [
       "  buying  maint doors lug_boot safety class_value\n",
       "0  vhigh  vhigh     2    small    low       unacc\n",
       "1  vhigh  vhigh     2    small    med       unacc\n",
       "2  vhigh  vhigh     2    small   high       unacc\n",
       "3  vhigh  vhigh     2      med    low       unacc\n",
       "4  vhigh  vhigh     2      med    med       unacc"
      ]
     },
     "execution_count": 2,
     "metadata": {},
     "output_type": "execute_result"
    }
   ],
   "source": [
    "df_header = ['buying', 'maint', 'doors', 'person', 'lug_boot', 'safety', 'class_value']\n",
    "df = pd.read_csv('car.data', names=df_header)\n",
    "#Drop column as it is not being used as parameter\n",
    "df = df.drop(columns='person') \n",
    "df.head()"
   ]
  },
  {
   "cell_type": "markdown",
   "metadata": {},
   "source": [
    "### 3. Prepare data for ML"
   ]
  },
  {
   "cell_type": "code",
   "execution_count": 3,
   "metadata": {},
   "outputs": [],
   "source": [
    "df['maint']= df['maint'].replace(['low', 'med', 'high', 'vhigh' ], [1, 2, 3, 4])\n",
    "df['doors']= df['doors'].replace(['2', '3', '4', '5more'], [2, 3, 4, 5])\n",
    "df['lug_boot']= df['lug_boot'].replace(['small', 'med', 'big'], [1, 2, 3])\n",
    "df['safety']= df['safety'].replace(['low', 'med', 'high'], [1, 2, 3])\n",
    "df['class_value']= df['class_value'].replace(['unacc', 'acc', 'good', 'vgood'], [1, 2, 3, 4])\n",
    "df.head()\n",
    "\n",
    "\n",
    "# Maintenance = High  ~ 3 \n",
    "# Number of doors = 4 ~ 4\n",
    "# Lug Boot Size = Big ~ 3\n",
    "# Safety = High ~ 3\n",
    "# Class Value = Good ~ 3\n",
    "\n",
    "#The value that we will use to predict at the end\n",
    "input_value = [3, 4, 3, 3, 3]"
   ]
  },
  {
   "cell_type": "markdown",
   "metadata": {},
   "source": [
    "### 4. Split data into input & Output"
   ]
  },
  {
   "cell_type": "code",
   "execution_count": 4,
   "metadata": {},
   "outputs": [],
   "source": [
    "#Input\n",
    "X = df.loc[:,'maint':'class_value']\n",
    "#output\n",
    "Y = df.loc[:,'buying']"
   ]
  },
  {
   "cell_type": "markdown",
   "metadata": {},
   "source": [
    "### 4. Build Random Forest Model"
   ]
  },
  {
   "cell_type": "code",
   "execution_count": 5,
   "metadata": {},
   "outputs": [
    {
     "data": {
      "text/plain": [
       "RandomForestClassifier()"
      ]
     },
     "execution_count": 5,
     "metadata": {},
     "output_type": "execute_result"
    }
   ],
   "source": [
    "clf = RandomForestClassifier()\n",
    "clf.fit(X, Y)"
   ]
  },
  {
   "cell_type": "code",
   "execution_count": 6,
   "metadata": {},
   "outputs": [
    {
     "name": "stdout",
     "output_type": "stream",
     "text": [
      " Given these values:\n",
      "# Maintenance = High  ~ 3 \n",
      "# Number of doors = 4 ~ 4\n",
      "# Lug Boot Size = Big ~ 3\n",
      "# Safety = High ~ 3\n",
      "# Class Value = Good ~ 3\n",
      "\n",
      "The predicted buying price is ['low']\n"
     ]
    }
   ],
   "source": [
    "print(\"\"\" Given these values:\n",
    "# Maintenance = High  ~ 3 \n",
    "# Number of doors = 4 ~ 4\n",
    "# Lug Boot Size = Big ~ 3\n",
    "# Safety = High ~ 3\n",
    "# Class Value = Good ~ 3\n",
    "\"\"\")\n",
    "\n",
    "print(\"The predicted buying price is\", clf.predict([input_value]))"
   ]
  }
 ],
 "metadata": {
  "kernelspec": {
   "display_name": "Python 3",
   "language": "python",
   "name": "python3"
  },
  "language_info": {
   "codemirror_mode": {
    "name": "ipython",
    "version": 3
   },
   "file_extension": ".py",
   "mimetype": "text/x-python",
   "name": "python",
   "nbconvert_exporter": "python",
   "pygments_lexer": "ipython3",
   "version": "3.8.5"
  }
 },
 "nbformat": 4,
 "nbformat_minor": 4
}
